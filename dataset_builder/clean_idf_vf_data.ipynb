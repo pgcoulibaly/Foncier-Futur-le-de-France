{
 "cells": [
  {
   "cell_type": "code",
   "execution_count": 13,
   "id": "2ed850e4",
   "metadata": {},
   "outputs": [],
   "source": [
    "import pandas as pd\n",
    "import duckdb"
   ]
  },
  {
   "cell_type": "code",
   "execution_count": 28,
   "id": "112598f2",
   "metadata": {},
   "outputs": [
    {
     "name": "stderr",
     "output_type": "stream",
     "text": [
      "C:\\Users\\User\\AppData\\Local\\Temp\\ipykernel_1576\\1698539982.py:1: DtypeWarning: Columns (13) have mixed types. Specify dtype option on import or set low_memory=False.\n",
      "  df_idf = pd.read_csv('../data/vf_idf_2020_2024.csv')\n"
     ]
    }
   ],
   "source": [
    "df_idf = pd.read_csv('../data/vf_idf_2020_2024.csv')\n",
    "df_idf.drop('Unnamed: 0',axis=1,inplace=True)\n",
    "df_idf.drop('lot1_numero',axis=1,inplace=True)"
   ]
  },
  {
   "cell_type": "markdown",
   "id": "db108a37",
   "metadata": {},
   "source": [
    "## Informations sur le dataset"
   ]
  },
  {
   "cell_type": "code",
   "execution_count": 29,
   "id": "d5ec1c52",
   "metadata": {},
   "outputs": [
    {
     "data": {
      "text/plain": [
       "(831289, 18)"
      ]
     },
     "execution_count": 29,
     "metadata": {},
     "output_type": "execute_result"
    }
   ],
   "source": [
    "df_idf.shape"
   ]
  },
  {
   "cell_type": "code",
   "execution_count": 30,
   "id": "dc659ad1",
   "metadata": {},
   "outputs": [
    {
     "data": {
      "text/plain": [
       "Index(['id_mutation', 'date_mutation', 'numero_disposition', 'valeur_fonciere',\n",
       "       'adresse_numero', 'adresse_nom_voie', 'adresse_code_voie',\n",
       "       'code_postal', 'code_commune', 'nom_commune', 'code_departement',\n",
       "       'id_parcelle', 'nombre_lots', 'type_local', 'surface_reelle_bati',\n",
       "       'nombre_pieces_principales', 'longitude', 'latitude'],\n",
       "      dtype='object')"
      ]
     },
     "execution_count": 30,
     "metadata": {},
     "output_type": "execute_result"
    }
   ],
   "source": [
    "df_idf.columns"
   ]
  },
  {
   "cell_type": "code",
   "execution_count": null,
   "id": "85187efe",
   "metadata": {},
   "outputs": [],
   "source": [
    "for col in df_idf.columns :\n",
    "    print(f\"pourcentage de valeur manquantes de la colonne {col} : {100*(df_idf[col].isnull().sum()/len(df_idf))} %\" )"
   ]
  },
  {
   "cell_type": "markdown",
   "id": "4077b2fd",
   "metadata": {},
   "source": [
    "## Suppression des valeurs manquantes"
   ]
  },
  {
   "cell_type": "code",
   "execution_count": 36,
   "id": "d1230175",
   "metadata": {},
   "outputs": [
    {
     "data": {
      "text/plain": [
       "(828317, 18)"
      ]
     },
     "execution_count": 36,
     "metadata": {},
     "output_type": "execute_result"
    }
   ],
   "source": [
    "df_idf.dropna(axis = 0,inplace=True)\n",
    "df_idf.shape"
   ]
  },
  {
   "cell_type": "code",
   "execution_count": 61,
   "id": "af3b3f10",
   "metadata": {},
   "outputs": [
    {
     "data": {
      "text/plain": [
       "(828317, 8)"
      ]
     },
     "execution_count": 61,
     "metadata": {},
     "output_type": "execute_result"
    }
   ],
   "source": [
    "features = [\n",
    "    'surface_reelle_bati',\n",
    "    'nombre_pieces_principales',\n",
    "    'type_local',\n",
    "    'code_postal',\n",
    "    'longitude',\n",
    "    'latitude',\n",
    "    'nombre_lots',\n",
    "    'date_mutation'  \n",
    "]\n",
    "\n",
    "raw_pre_train_data = df_idf[features]\n",
    "raw_pre_train_data.shape"
   ]
  },
  {
   "cell_type": "markdown",
   "id": "ff1e9811",
   "metadata": {},
   "source": [
    "## Enregistrement des premieres transformations"
   ]
  },
  {
   "cell_type": "code",
   "execution_count": 62,
   "id": "62051571",
   "metadata": {},
   "outputs": [],
   "source": [
    "df_idf.to_csv('../data/raw_pre_train_data.csv')"
   ]
  }
 ],
 "metadata": {
  "kernelspec": {
   "display_name": "Python 3",
   "language": "python",
   "name": "python3"
  },
  "language_info": {
   "codemirror_mode": {
    "name": "ipython",
    "version": 3
   },
   "file_extension": ".py",
   "mimetype": "text/x-python",
   "name": "python",
   "nbconvert_exporter": "python",
   "pygments_lexer": "ipython3",
   "version": "3.11.8"
  }
 },
 "nbformat": 4,
 "nbformat_minor": 5
}
