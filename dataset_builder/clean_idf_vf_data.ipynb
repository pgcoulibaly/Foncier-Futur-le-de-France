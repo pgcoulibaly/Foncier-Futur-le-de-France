{
 "cells": [
  {
   "cell_type": "code",
   "execution_count": 13,
   "id": "2ed850e4",
   "metadata": {},
   "outputs": [],
   "source": [
    "import pandas as pd\n",
    "import duckdb"
   ]
  },
  {
   "cell_type": "code",
   "execution_count": 28,
   "id": "112598f2",
   "metadata": {},
   "outputs": [
    {
     "name": "stderr",
     "output_type": "stream",
     "text": [
      "C:\\Users\\User\\AppData\\Local\\Temp\\ipykernel_1576\\1698539982.py:1: DtypeWarning: Columns (13) have mixed types. Specify dtype option on import or set low_memory=False.\n",
      "  df_idf = pd.read_csv('../data/vf_idf_2020_2024.csv')\n"
     ]
    }
   ],
   "source": [
    "df_idf = pd.read_csv('../data/vf_idf_2020_2024.csv')\n",
    "df_idf.drop('Unnamed: 0',axis=1,inplace=True)\n",
    "df_idf.drop('lot1_numero',axis=1,inplace=True)"
   ]
  },
  {
   "cell_type": "markdown",
   "id": "db108a37",
   "metadata": {},
   "source": [
    "## Informations sur le dataset"
   ]
  },
  {
   "cell_type": "code",
   "execution_count": 11,
   "id": "d5ec1c52",
   "metadata": {},
   "outputs": [
    {
     "data": {
      "text/plain": [
       "(831289, 19)"
      ]
     },
     "execution_count": 11,
     "metadata": {},
     "output_type": "execute_result"
    }
   ],
   "source": [
    "df_idf.shape"
   ]
  },
  {
   "cell_type": "code",
   "execution_count": 12,
   "id": "dc659ad1",
   "metadata": {},
   "outputs": [
    {
     "data": {
      "text/plain": [
       "Index(['id_mutation', 'date_mutation', 'numero_disposition', 'valeur_fonciere',\n",
       "       'adresse_numero', 'adresse_nom_voie', 'adresse_code_voie',\n",
       "       'code_postal', 'code_commune', 'nom_commune', 'code_departement',\n",
       "       'id_parcelle', 'lot1_numero', 'nombre_lots', 'type_local',\n",
       "       'surface_reelle_bati', 'nombre_pieces_principales', 'longitude',\n",
       "       'latitude'],\n",
       "      dtype='object')"
      ]
     },
     "execution_count": 12,
     "metadata": {},
     "output_type": "execute_result"
    }
   ],
   "source": [
    "df_idf.columns"
   ]
  },
  {
   "cell_type": "code",
   "execution_count": 17,
   "id": "85187efe",
   "metadata": {},
   "outputs": [
    {
     "name": "stdout",
     "output_type": "stream",
     "text": [
      "pourcentage de valeur manquantes de la colonne id_mutation : 0.0 %\n",
      "pourcentage de valeur manquantes de la colonne date_mutation : 0.0 %\n",
      "pourcentage de valeur manquantes de la colonne numero_disposition : 0.0 %\n",
      "pourcentage de valeur manquantes de la colonne valeur_fonciere : 0.0 %\n",
      "pourcentage de valeur manquantes de la colonne adresse_numero : 0.3554720440183859 %\n",
      "pourcentage de valeur manquantes de la colonne adresse_nom_voie : 0.00012029510795884464 %\n",
      "pourcentage de valeur manquantes de la colonne adresse_code_voie : 0.0 %\n",
      "pourcentage de valeur manquantes de la colonne code_postal : 0.00048118043183537854 %\n",
      "pourcentage de valeur manquantes de la colonne code_commune : 0.0 %\n",
      "pourcentage de valeur manquantes de la colonne nom_commune : 0.0 %\n",
      "pourcentage de valeur manquantes de la colonne code_departement : 0.0 %\n",
      "pourcentage de valeur manquantes de la colonne id_parcelle : 0.0 %\n",
      "pourcentage de valeur manquantes de la colonne lot1_numero : 33.38718544332958 %\n",
      "pourcentage de valeur manquantes de la colonne nombre_lots : 0.0 %\n",
      "pourcentage de valeur manquantes de la colonne type_local : 0.0 %\n",
      "pourcentage de valeur manquantes de la colonne surface_reelle_bati : 0.0015638364034649805 %\n",
      "pourcentage de valeur manquantes de la colonne nombre_pieces_principales : 0.0015638364034649805 %\n",
      "pourcentage de valeur manquantes de la colonne longitude : 0.0 %\n",
      "pourcentage de valeur manquantes de la colonne latitude : 0.0 %\n"
     ]
    }
   ],
   "source": [
    "for col in df_idf.columns :\n",
    "    print(f\"pourcentage de valeur manquantes de la colonne {col} : {100*(df_idf[col].isnull().sum()/len(df_idf))} %\" )"
   ]
  },
  {
   "cell_type": "code",
   "execution_count": 27,
   "id": "66158e36",
   "metadata": {},
   "outputs": [
    {
     "data": {
      "text/html": [
       "<div>\n",
       "<style scoped>\n",
       "    .dataframe tbody tr th:only-of-type {\n",
       "        vertical-align: middle;\n",
       "    }\n",
       "\n",
       "    .dataframe tbody tr th {\n",
       "        vertical-align: top;\n",
       "    }\n",
       "\n",
       "    .dataframe thead th {\n",
       "        text-align: right;\n",
       "    }\n",
       "</style>\n",
       "<table border=\"1\" class=\"dataframe\">\n",
       "  <thead>\n",
       "    <tr style=\"text-align: right;\">\n",
       "      <th></th>\n",
       "      <th>valeur_manquante</th>\n",
       "    </tr>\n",
       "  </thead>\n",
       "  <tbody>\n",
       "    <tr>\n",
       "      <th>0</th>\n",
       "      <td>4</td>\n",
       "    </tr>\n",
       "  </tbody>\n",
       "</table>\n",
       "</div>"
      ],
      "text/plain": [
       "   valeur_manquante\n",
       "0                 4"
      ]
     },
     "execution_count": 27,
     "metadata": {},
     "output_type": "execute_result"
    }
   ],
   "source": [
    "q ='''\n",
    "SELECT COUNT(*)-COUNT(code_postal) as  valeur_manquante\n",
    "FROM df_idf\n",
    "'''\n",
    "duckdb.sql(q).df()"
   ]
  }
 ],
 "metadata": {
  "kernelspec": {
   "display_name": "Python 3",
   "language": "python",
   "name": "python3"
  },
  "language_info": {
   "codemirror_mode": {
    "name": "ipython",
    "version": 3
   },
   "file_extension": ".py",
   "mimetype": "text/x-python",
   "name": "python",
   "nbconvert_exporter": "python",
   "pygments_lexer": "ipython3",
   "version": "3.11.8"
  }
 },
 "nbformat": 4,
 "nbformat_minor": 5
}
