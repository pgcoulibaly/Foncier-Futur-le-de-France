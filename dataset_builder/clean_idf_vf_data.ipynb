{
 "cells": [
  {
   "cell_type": "code",
   "execution_count": 13,
   "id": "2ed850e4",
   "metadata": {},
   "outputs": [],
   "source": [
    "import pandas as pd\n",
    "import duckdb"
   ]
  },
  {
   "cell_type": "code",
   "execution_count": 14,
   "id": "112598f2",
   "metadata": {},
   "outputs": [
    {
     "name": "stderr",
     "output_type": "stream",
     "text": [
      "C:\\Users\\User\\AppData\\Local\\Temp\\ipykernel_1576\\994750193.py:1: DtypeWarning: Columns (13) have mixed types. Specify dtype option on import or set low_memory=False.\n",
      "  df_idf = pd.read_csv('../data/vf_idf_2020_2024.csv')\n"
     ]
    }
   ],
   "source": [
    "df_idf = pd.read_csv('../data/vf_idf_2020_2024.csv')\n",
    "df_idf.drop('Unnamed: 0',axis=1,inplace=True)"
   ]
  },
  {
   "cell_type": "markdown",
   "id": "db108a37",
   "metadata": {},
   "source": [
    "## Informations sur le dataset"
   ]
  },
  {
   "cell_type": "code",
   "execution_count": 11,
   "id": "d5ec1c52",
   "metadata": {},
   "outputs": [
    {
     "data": {
      "text/plain": [
       "(831289, 19)"
      ]
     },
     "execution_count": 11,
     "metadata": {},
     "output_type": "execute_result"
    }
   ],
   "source": [
    "df_idf.shape"
   ]
  },
  {
   "cell_type": "code",
   "execution_count": 12,
   "id": "dc659ad1",
   "metadata": {},
   "outputs": [
    {
     "data": {
      "text/plain": [
       "Index(['id_mutation', 'date_mutation', 'numero_disposition', 'valeur_fonciere',\n",
       "       'adresse_numero', 'adresse_nom_voie', 'adresse_code_voie',\n",
       "       'code_postal', 'code_commune', 'nom_commune', 'code_departement',\n",
       "       'id_parcelle', 'lot1_numero', 'nombre_lots', 'type_local',\n",
       "       'surface_reelle_bati', 'nombre_pieces_principales', 'longitude',\n",
       "       'latitude'],\n",
       "      dtype='object')"
      ]
     },
     "execution_count": 12,
     "metadata": {},
     "output_type": "execute_result"
    }
   ],
   "source": [
    "df_idf.columns"
   ]
  }
 ],
 "metadata": {
  "kernelspec": {
   "display_name": "Python 3",
   "language": "python",
   "name": "python3"
  },
  "language_info": {
   "codemirror_mode": {
    "name": "ipython",
    "version": 3
   },
   "file_extension": ".py",
   "mimetype": "text/x-python",
   "name": "python",
   "nbconvert_exporter": "python",
   "pygments_lexer": "ipython3",
   "version": "3.11.8"
  }
 },
 "nbformat": 4,
 "nbformat_minor": 5
}
